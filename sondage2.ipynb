{
 "cells": [
  {
   "cell_type": "code",
   "execution_count": 1,
   "metadata": {},
   "outputs": [],
   "source": [
    "#https://medium.com/@tattwei46/how-to-use-python-with-mysql-79304bee8753\n",
    "#https://pandas.pydata.org/pandas-docs/stable/user_guide/visualization.html\n",
    "import mysql.connector\n",
    "\n",
    "mydb = mysql.connector.connect(\n",
    "  host=\"localhost\",\n",
    "  user=\"root\",\n",
    "  passwd=\"root\",\n",
    "  database=\"mydatabase\"\n",
    ")\n",
    "\n",
    "import pandas as pd\n",
    "import numpy as np\n",
    "from pandas import DataFrame\n",
    "import matplotlib.pyplot as plt\n",
    "\n",
    "mycursor = mydb.cursor()\n",
    "\n",
    "#mycursor.execute(\"CREATE TABLE sondage (id INT AUTO_INCREMENT PRIMARY KEY, name VARCHAR(255), address VARCHAR(255), sex VARCHAR(255), infection VARCHAR(255), fumeur VARCHAR(255), fastfood VARCHAR(255), alcohol VARCHAR(255))\")"
   ]
  },
  {
   "cell_type": "code",
   "execution_count": 2,
   "metadata": {},
   "outputs": [
    {
     "name": "stdout",
     "output_type": "stream",
     "text": [
      "Comment tu t'appelles ? luk\n",
      "Quel est ton adresse ? jm\n",
      "Quel est ton genre ? hl\n",
      "Ta colopathie a-t-elle commencé par une infection ? 1\n",
      "A quel point tu manges déséquilibré entre 0 et 3 ? 1\n",
      "A quel point tu fumes entre 0 et 3 ? 1\n",
      "A quel point tu bois entre 0 et 3 ? 1\n",
      "luk\n",
      "jm\n",
      "hl\n",
      "1\n",
      "1\n",
      "1\n",
      "1\n"
     ]
    }
   ],
   "source": [
    "#SONDAGE\n",
    "name = input(\"Comment tu t'appelles ? \")\n",
    "address = input(\"Quel est ton adresse ? \")\n",
    "sex = input(\"Quel est ton genre ? \")\n",
    "infection = input(\"Ta colopathie a-t-elle commencé par une infection ? \")\n",
    "fumeur = input(\"A quel point tu manges déséquilibré entre 0 et 3 ? \")\n",
    "fastfood = input(\"A quel point tu fumes entre 0 et 3 ? \")\n",
    "alcohol = input(\"A quel point tu bois entre 0 et 3 ? \")\n",
    "print(name)\n",
    "print(address)\n",
    "print(sex)\n",
    "print(infection)\n",
    "print(fumeur)\n",
    "print(fastfood)\n",
    "print(alcohol)"
   ]
  },
  {
   "cell_type": "code",
   "execution_count": 3,
   "metadata": {},
   "outputs": [
    {
     "name": "stdout",
     "output_type": "stream",
     "text": [
      "1 record(s) inserted.\n"
     ]
    }
   ],
   "source": [
    "#VALIDER\n",
    "def valider():\n",
    "    sql = \"INSERT INTO sondage (name, address, sex, infection, fumeur, fastfood, alcohol) VALUES (%s, %s, %s, %s, %s, %s, %s)\"\n",
    "    val = (name, address, sex, infection, fumeur, fastfood, alcohol)\n",
    "    mycursor.execute(sql, val)\n",
    "\n",
    "    mydb.commit()\n",
    "\n",
    "    print(mycursor.rowcount, \"record(s) inserted.\")\n",
    "valider()"
   ]
  },
  {
   "cell_type": "code",
   "execution_count": 6,
   "metadata": {},
   "outputs": [],
   "source": [
    "#AFFICHER\n",
    "\n",
    "def afficher():\n",
    "    sql = \"SELECT * FROM sondage\"\n",
    "    mycursor.execute(sql)\n",
    "    myresult = mycursor.fetchall()\n",
    "    for x in myresult:\n",
    "        print(x)\n",
    "#afficher()"
   ]
  },
  {
   "cell_type": "code",
   "execution_count": 7,
   "metadata": {},
   "outputs": [],
   "source": [
    "#SUPPRIMER\n",
    "def supprimer():\n",
    "    sql = \"DELETE FROM sondage WHERE infection = %s\"\n",
    "    adr = (\"0\", )\n",
    "    mycursor.execute(sql, adr)\n",
    "    mydb.commit()\n",
    "    print(mycursor.rowcount, \"record(s) deleted.\")"
   ]
  },
  {
   "cell_type": "code",
   "execution_count": 8,
   "metadata": {},
   "outputs": [],
   "source": [
    "#AJOUTER PLUSIEURS\n",
    "def ajouter():\n",
    "    sql = \"INSERT INTO sondage (name, address, sex, infection, fumeur, fastfood, alcohol) VALUES (%s, %s, %s, %s, %s, %s, %s)\"\n",
    "    val = [\n",
    "        (\"Lily\", \"California\", \"Feminin\", \"oui\", \"0\", \"3\", \"2\"),\n",
    "        (\"David\", \"San Francisco\", \"Masculin\", \"non\", \"0\", \"0\", \"2\"),\n",
    "        (\"Micheal\", \"Las Vegas\", \"Masculin\", \"oui\", \"0\", \"3\", \"1\"),\n",
    "        (\"Sarah\", \"New York\", \"Feminin\", \"non\", \"2\", \"1\", \"0\")\n",
    "    ]\n",
    "    mycursor.executemany(sql, val)\n",
    "    mydb.commit()\n",
    "    print(mycursor.rowcount, \"record(s) inserted.\")"
   ]
  },
  {
   "cell_type": "code",
   "execution_count": 9,
   "metadata": {},
   "outputs": [
    {
     "name": "stdout",
     "output_type": "stream",
     "text": [
      "(22, 'Lily', 'California', 'Feminin', 'oui', '0', '3', '2')\n",
      "(23, 'David', 'San Francisco', 'Masculin', 'non', '0', '0', '2')\n",
      "(24, 'Micheal', 'Las Vegas', 'Masculin', 'oui', '0', '3', '1')\n",
      "(25, 'Sarah', 'New York', 'Feminin', 'non', '2', '1', '0')\n",
      "(26, 'paul', 'paris', 'masculin', 'oui', '0', '0', '0')\n",
      "(28, 'Lily', 'California', 'Feminin', 'oui', '0', '3', '2')\n",
      "(29, 'David', 'San Francisco', 'Masculin', 'non', '0', '0', '2')\n",
      "(30, 'Micheal', 'Las Vegas', 'Masculin', 'oui', '0', '3', '1')\n",
      "(31, 'Sarah', 'New York', 'Feminin', 'non', '2', '1', '0')\n",
      "(32, 'dider', 'bordeaux', 'masculin', 'non', '2', '1', '0')\n",
      "(33, 'mike', 'paris', 'masculin', 'oui', '2', '3', '3')\n",
      "(34, 'jerome', 'lille', 'masculin', 'oui', '0', '1', '1')\n",
      "(35, 'sdf', 'sdf', 'masculin', 'non', '0', '0', '0')\n",
      "(36, 'sdf', 'sdf', 'masculin', 'non', '0', '0', '0')\n",
      "(37, 'luk', 'jm', 'hl', '1', '1', '1', '1')\n"
     ]
    }
   ],
   "source": [
    "sql = \"SELECT * FROM sondage\"\n",
    "mycursor.execute(sql)\n",
    "myresult = mycursor.fetchall()\n",
    "for x in myresult:\n",
    "    print(x)\n",
    "dfresu = pd.DataFrame(myresult, columns=['num', 'nom', 'address', 'genre', 'infection', 'fumeur', 'fastfood', 'alcool']) "
   ]
  },
  {
   "cell_type": "code",
   "execution_count": 10,
   "metadata": {},
   "outputs": [],
   "source": [
    "df2 = dfresu.rename({0: 'num', 1: 'nom', 2: 'address', 3: 'genre', 4: 'infection', 5: 'fumeur', 6: 'fastfood', 7: 'alcool'}, axis=1)"
   ]
  },
  {
   "cell_type": "code",
   "execution_count": 11,
   "metadata": {},
   "outputs": [],
   "source": [
    "df2['fumeur'] = df2['fumeur'].astype(float)\n",
    "df2['fastfood'] = df2['fastfood'].astype(float)\n",
    "df2['alcool'] = df2['alcool'].astype(float)"
   ]
  },
  {
   "cell_type": "code",
   "execution_count": 12,
   "metadata": {},
   "outputs": [],
   "source": [
    "del df2['num']"
   ]
  },
  {
   "cell_type": "code",
   "execution_count": 13,
   "metadata": {},
   "outputs": [
    {
     "data": {
      "text/plain": [
       "<matplotlib.axes._subplots.AxesSubplot at 0x16a14c38548>"
      ]
     },
     "execution_count": 13,
     "metadata": {},
     "output_type": "execute_result"
    },
    {
     "data": {
      "image/png": "[encoded data removed]",
      "text/plain": [
       "<Figure size 432x288 with 1 Axes>"
      ]
     },
     "metadata": {
      "needs_background": "light"
     },
     "output_type": "display_data"
    }
   ],
   "source": [
    "df2.plot.bar(x='nom', width=0.8)"
   ]
  },
  {
   "cell_type": "code",
   "execution_count": 14,
   "metadata": {},
   "outputs": [
    {
     "name": "stdout",
     "output_type": "stream",
     "text": [
      "(22, 'Lily', 'California', 'Feminin', 'oui', '0', '3', '2')\n",
      "(23, 'David', 'San Francisco', 'Masculin', 'non', '0', '0', '2')\n",
      "(24, 'Micheal', 'Las Vegas', 'Masculin', 'oui', '0', '3', '1')\n",
      "(25, 'Sarah', 'New York', 'Feminin', 'non', '2', '1', '0')\n",
      "(26, 'paul', 'paris', 'masculin', 'oui', '0', '0', '0')\n",
      "(28, 'Lily', 'California', 'Feminin', 'oui', '0', '3', '2')\n",
      "(29, 'David', 'San Francisco', 'Masculin', 'non', '0', '0', '2')\n",
      "(30, 'Micheal', 'Las Vegas', 'Masculin', 'oui', '0', '3', '1')\n",
      "(31, 'Sarah', 'New York', 'Feminin', 'non', '2', '1', '0')\n",
      "(32, 'dider', 'bordeaux', 'masculin', 'non', '2', '1', '0')\n",
      "(33, 'mike', 'paris', 'masculin', 'oui', '2', '3', '3')\n",
      "(34, 'jerome', 'lille', 'masculin', 'oui', '0', '1', '1')\n",
      "(35, 'sdf', 'sdf', 'masculin', 'non', '0', '0', '0')\n",
      "(36, 'sdf', 'sdf', 'masculin', 'non', '0', '0', '0')\n",
      "(37, 'luk', 'jm', 'hl', '1', '1', '1', '1')\n"
     ]
    }
   ],
   "source": [
    "afficher()"
   ]
  },
  {
   "cell_type": "code",
   "execution_count": null,
   "metadata": {},
   "outputs": [],
   "source": []
  }
 ],
 "metadata": {
  "kernelspec": {
   "display_name": "Python 3",
   "language": "python",
   "name": "python3"
  },
  "language_info": {
   "codemirror_mode": {
    "name": "ipython",
    "version": 3
   },
   "file_extension": ".py",
   "mimetype": "text/x-python",
   "name": "python",
   "nbconvert_exporter": "python",
   "pygments_lexer": "ipython3",
   "version": "3.7.4"
  }
 },
 "nbformat": 4,
 "nbformat_minor": 2
}
